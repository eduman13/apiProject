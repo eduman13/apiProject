{
 "cells": [
  {
   "cell_type": "markdown",
   "metadata": {},
   "source": [
    "# Analizador de sentimientos"
   ]
  },
  {
   "cell_type": "code",
   "execution_count": 24,
   "metadata": {},
   "outputs": [],
   "source": [
    "import requests as r"
   ]
  },
  {
   "cell_type": "markdown",
   "metadata": {},
   "source": [
    "#### Insertamos un nuevo usuario \"Messi\""
   ]
  },
  {
   "cell_type": "code",
   "execution_count": 9,
   "metadata": {},
   "outputs": [
    {
     "data": {
      "text/plain": [
       "{'user_id': 11}"
      ]
     },
     "execution_count": 9,
     "metadata": {},
     "output_type": "execute_result"
    }
   ],
   "source": [
    "user = r.get(\"http://127.0.0.1:5000/user/create/Messi\").json()\n",
    "user"
   ]
  },
  {
   "cell_type": "markdown",
   "metadata": {},
   "source": [
    "#### Insertamos un nuevo usuario \"Kobe\""
   ]
  },
  {
   "cell_type": "code",
   "execution_count": 11,
   "metadata": {},
   "outputs": [
    {
     "data": {
      "text/plain": [
       "{'user_id': 12}"
      ]
     },
     "execution_count": 11,
     "metadata": {},
     "output_type": "execute_result"
    }
   ],
   "source": [
    "user1 = r.get(\"http://127.0.0.1:5000/user/create/Kobe\").json()\n",
    "user1"
   ]
  },
  {
   "cell_type": "markdown",
   "metadata": {},
   "source": [
    "#### Creamos un nuevo chat con los dos usuarios anteriores"
   ]
  },
  {
   "cell_type": "code",
   "execution_count": 16,
   "metadata": {},
   "outputs": [
    {
     "data": {
      "text/plain": [
       "{'chat_id': 3}"
      ]
     },
     "execution_count": 16,
     "metadata": {},
     "output_type": "execute_result"
    }
   ],
   "source": [
    "body = {\n",
    "    \"users\": [11, 12]\n",
    "}\n",
    "headers = {\n",
    "    \"Content-Type\": \"application/json\"\n",
    "}\n",
    "chat = r.get(\"http://127.0.0.1:5000/chat/create\", json=body, headers=headers).json()\n",
    "chat"
   ]
  },
  {
   "cell_type": "markdown",
   "metadata": {},
   "source": [
    "#### El usuario \"Messi\" añade un nuevo mensaje"
   ]
  },
  {
   "cell_type": "code",
   "execution_count": 17,
   "metadata": {},
   "outputs": [],
   "source": [
    "body = {\n",
    "    \"message\": \"¿Qué pasa Kobe?\"\n",
    "}\n",
    "params = {\n",
    "    \"user_id\": 11\n",
    "}\n",
    "headers = {\n",
    "    \"Content-Type\": \"application/json\"\n",
    "}\n",
    "message = r.get(\"http://127.0.0.1:5000/chat/3/addmessage\", json=body, params=params, headers=headers).json()\n"
   ]
  },
  {
   "cell_type": "code",
   "execution_count": 18,
   "metadata": {},
   "outputs": [
    {
     "data": {
      "text/plain": [
       "{'message': '¿Qué pasa Kobe?'}"
      ]
     },
     "execution_count": 18,
     "metadata": {},
     "output_type": "execute_result"
    }
   ],
   "source": [
    "message"
   ]
  },
  {
   "cell_type": "markdown",
   "metadata": {},
   "source": [
    "#### El usuario \"Kobe\" añade un nuevo mensaje"
   ]
  },
  {
   "cell_type": "code",
   "execution_count": 19,
   "metadata": {},
   "outputs": [
    {
     "data": {
      "text/plain": [
       "{'message': \"What's up Messi?\"}"
      ]
     },
     "execution_count": 19,
     "metadata": {},
     "output_type": "execute_result"
    }
   ],
   "source": [
    "body = {\n",
    "    \"message\": \"What's up Messi?\"\n",
    "}\n",
    "params = {\n",
    "    \"user_id\": 12\n",
    "}\n",
    "headers = {\n",
    "    \"Content-Type\": \"application/json\"\n",
    "}\n",
    "message = r.get(\"http://127.0.0.1:5000/chat/3/addmessage\", json=body, params=params, headers=headers).json()\n",
    "message"
   ]
  },
  {
   "cell_type": "markdown",
   "metadata": {},
   "source": [
    "#### Listamos el chat"
   ]
  },
  {
   "cell_type": "code",
   "execution_count": 20,
   "metadata": {},
   "outputs": [
    {
     "data": {
      "text/plain": [
       "{'messages_from_chat_3': [{'message': '¿Qué pasa Kobe?', 'userName': 'Messi'},\n",
       "  {'message': \"What's up Messi?\", 'userName': 'Kobe'}]}"
      ]
     },
     "execution_count": 20,
     "metadata": {},
     "output_type": "execute_result"
    }
   ],
   "source": [
    "messages = r.get(\"http://127.0.0.1:5000/chat/3/list\").json()\n",
    "messages"
   ]
  },
  {
   "cell_type": "markdown",
   "metadata": {},
   "source": [
    "#### Listamos un chat que tenemos preparado para analizar"
   ]
  },
  {
   "cell_type": "code",
   "execution_count": 21,
   "metadata": {},
   "outputs": [
    {
     "data": {
      "text/plain": [
       "{'messages_from_chat_2': [{'message': 'Like a Virgin is all about a girl who digs a guy with a big dick. The whole song is a metaphor for big dicks.',\n",
       "   'userName': 'MR.PINK'},\n",
       "  {'message': \"No it's not.  It's about a girl who is very vulnerable and she's been fucked over a few times. Then she meets some guy who's really sensitive\",\n",
       "   'userName': 'MR.BLUE'},\n",
       "  {'message': 'Whoa...whoa...time out Greenbay. Tell that bullshit to the tourists.',\n",
       "   'userName': 'MR.PINK'},\n",
       "  {'message': 'Toby...who the fuck is Toby? Toby...Toby...think...think... think...',\n",
       "   'userName': 'JOE'},\n",
       "  {'message': \"It's not about a nice girl who meets a sensitive boy. Now granted that's what 'True Blue' is about, no argument about that.\",\n",
       "   'userName': 'MR.PINK'},\n",
       "  {'message': \" Which one is 'True Blue?'\", 'userName': 'MR.ORANGE'},\n",
       "  {'message': \"You don't remember 'True Blue?' That was a big ass hit for Madonna. Shit, I don't even follow this Tops In Pops shit, and I've at least heard of 'True  Blue.'\",\n",
       "   'userName': 'NICE_GUY_EDDIE'},\n",
       "  {'message': \"Look, asshole, I didn't say I ain't heard of it.  All I asked was how does it go?  Excuse me for not being the world's biggest Madonna fan.\",\n",
       "   'userName': 'MR.ORANGE'},\n",
       "  {'message': 'I hate Madonna.', 'userName': ' MR.BROWN'},\n",
       "  {'message': \" I like her early stuff.  You know, 'Lucky Star,' 'Borderline' - but once she got into her 'Papa Don't Preach' phase, I don't know, I tuned out.\",\n",
       "   'userName': 'MR.BLUE'},\n",
       "  {'message': \"Hey, fuck all that, I'm making a point here. You're gonna make me lose my train of thought.\",\n",
       "   'userName': 'MR.PINK'},\n",
       "  {'message': \"Oh fuck, Toby's that little china girl.\", 'userName': 'JOE'},\n",
       "  {'message': \"What's that?\", 'userName': 'MR.WHITE'},\n",
       "  {'message': \"I found this old address book in a jacket I ain't worn in a coon's age. Toby what?  What the fuck  was her last name?\",\n",
       "   'userName': 'JOE'},\n",
       "  {'message': ' Where was I?', 'userName': 'MR.PINK'},\n",
       "  {'message': \"You said 'True Blue' was about a nice girl who finds a sensitive fella. But 'Like a Virgin' was a  metaphor for big dicks.\",\n",
       "   'userName': 'MR.ORANGE'},\n",
       "  {'message': \"Let me tell ya what 'Like a Virgin's about.  It's about some cooze who's a regular fuck machine. I mean all the time, morning, day, night, afternoon, dick, dick, dick, dick, dick, dick, dick, dick, dick, dick, dick.\",\n",
       "   'userName': 'MR.PINK'},\n",
       "  {'message': 'How many dicks was that?', 'userName': 'MR.BLUE'},\n",
       "  {'message': 'A lot.', 'userName': 'MR.WHITE'},\n",
       "  {'message': \"Then one day she meets a John Holmes motherfucker, and it's like, whoa baby.  This mother fucker's like Charles Bronson in 'The Great Escape.'  He's diggin tunnels.  Now she's gettin this serious dick action, she's feelin  something she ain't felt since forever. Pain. \",\n",
       "   'userName': 'MR.PINK'},\n",
       "  {'message': 'Chew?  Toby Chew?  No.', 'userName': 'JOE'},\n",
       "  {'message': \"It hurts.  It hurts her.  It shouldn't hurt.  Her pussy should be Bubble-Yum by now.  But when this cat fucks her, it hurts.  It hurts like the first time.  The pain is reminding a fuck machine what is was like to be a virgin. Hence, 'Like a Virgin.'\",\n",
       "   'userName': 'MR.PINK'}]}"
      ]
     },
     "execution_count": 21,
     "metadata": {},
     "output_type": "execute_result"
    }
   ],
   "source": [
    "messages = r.get(\"http://127.0.0.1:5000/chat/2/list\").json()\n",
    "messages"
   ]
  },
  {
   "cell_type": "markdown",
   "metadata": {},
   "source": [
    "#### Analizamos los sentimientos de cada mensaje"
   ]
  },
  {
   "cell_type": "code",
   "execution_count": 22,
   "metadata": {},
   "outputs": [
    {
     "data": {
      "text/plain": [
       "{'analysis': [{'message': {'message': 'Like a Virgin is all about a girl who digs a guy with a big dick. The whole song is a metaphor for big dicks.',\n",
       "    'userName': 'MR.PINK'},\n",
       "   'sentiment': {'compound': -0.2023,\n",
       "    'neg': 0.139,\n",
       "    'neu': 0.756,\n",
       "    'pos': 0.105}},\n",
       "  {'message': {'message': \"No it's not.  It's about a girl who is very vulnerable and she's been fucked over a few times. Then she meets some guy who's really sensitive\",\n",
       "    'userName': 'MR.BLUE'},\n",
       "   'sentiment': {'compound': -0.8313, 'neg': 0.286, 'neu': 0.714, 'pos': 0.0}},\n",
       "  {'message': {'message': 'Whoa...whoa...time out Greenbay. Tell that bullshit to the tourists.',\n",
       "    'userName': 'MR.PINK'},\n",
       "   'sentiment': {'compound': -0.5859, 'neg': 0.322, 'neu': 0.678, 'pos': 0.0}},\n",
       "  {'message': {'message': 'Toby...who the fuck is Toby? Toby...Toby...think...think... think...',\n",
       "    'userName': 'JOE'},\n",
       "   'sentiment': {'compound': -0.5423, 'neg': 0.368, 'neu': 0.632, 'pos': 0.0}},\n",
       "  {'message': {'message': \"It's not about a nice girl who meets a sensitive boy. Now granted that's what 'True Blue' is about, no argument about that.\",\n",
       "    'userName': 'MR.PINK'},\n",
       "   'sentiment': {'compound': -0.3031,\n",
       "    'neg': 0.253,\n",
       "    'neu': 0.575,\n",
       "    'pos': 0.172}},\n",
       "  {'message': {'message': \" Which one is 'True Blue?'\",\n",
       "    'userName': 'MR.ORANGE'},\n",
       "   'sentiment': {'compound': 0.4215, 'neg': 0.0, 'neu': 0.588, 'pos': 0.412}},\n",
       "  {'message': {'message': \"You don't remember 'True Blue?' That was a big ass hit for Madonna. Shit, I don't even follow this Tops In Pops shit, and I've at least heard of 'True  Blue.'\",\n",
       "    'userName': 'NICE_GUY_EDDIE'},\n",
       "   'sentiment': {'compound': -0.8882,\n",
       "    'neg': 0.364,\n",
       "    'neu': 0.545,\n",
       "    'pos': 0.092}},\n",
       "  {'message': {'message': \"Look, asshole, I didn't say I ain't heard of it.  All I asked was how does it go?  Excuse me for not being the world's biggest Madonna fan.\",\n",
       "    'userName': 'MR.ORANGE'},\n",
       "   'sentiment': {'compound': 0.3818, 'neg': 0.0, 'neu': 0.865, 'pos': 0.135}},\n",
       "  {'message': {'message': 'I hate Madonna.', 'userName': ' MR.BROWN'},\n",
       "   'sentiment': {'compound': -0.5719, 'neg': 0.787, 'neu': 0.213, 'pos': 0.0}},\n",
       "  {'message': {'message': \" I like her early stuff.  You know, 'Lucky Star,' 'Borderline' - but once she got into her 'Papa Don't Preach' phase, I don't know, I tuned out.\",\n",
       "    'userName': 'MR.BLUE'},\n",
       "   'sentiment': {'compound': 0.3919, 'neg': 0.0, 'neu': 0.852, 'pos': 0.148}},\n",
       "  {'message': {'message': \"Hey, fuck all that, I'm making a point here. You're gonna make me lose my train of thought.\",\n",
       "    'userName': 'MR.PINK'},\n",
       "   'sentiment': {'compound': -0.7351, 'neg': 0.292, 'neu': 0.708, 'pos': 0.0}},\n",
       "  {'message': {'message': \"Oh fuck, Toby's that little china girl.\",\n",
       "    'userName': 'JOE'},\n",
       "   'sentiment': {'compound': -0.5423, 'neg': 0.368, 'neu': 0.632, 'pos': 0.0}},\n",
       "  {'message': {'message': \"What's that?\", 'userName': 'MR.WHITE'},\n",
       "   'sentiment': {'compound': 0.0, 'neg': 0.0, 'neu': 1.0, 'pos': 0.0}},\n",
       "  {'message': {'message': \"I found this old address book in a jacket I ain't worn in a coon's age. Toby what?  What the fuck  was her last name?\",\n",
       "    'userName': 'JOE'},\n",
       "   'sentiment': {'compound': -0.4537,\n",
       "    'neg': 0.156,\n",
       "    'neu': 0.768,\n",
       "    'pos': 0.076}},\n",
       "  {'message': {'message': ' Where was I?', 'userName': 'MR.PINK'},\n",
       "   'sentiment': {'compound': 0.0, 'neg': 0.0, 'neu': 1.0, 'pos': 0.0}},\n",
       "  {'message': {'message': \"You said 'True Blue' was about a nice girl who finds a sensitive fella. But 'Like a Virgin' was a  metaphor for big dicks.\",\n",
       "    'userName': 'MR.ORANGE'},\n",
       "   'sentiment': {'compound': 0.7964, 'neg': 0.0, 'neu': 0.677, 'pos': 0.323}},\n",
       "  {'message': {'message': \"Let me tell ya what 'Like a Virgin's about.  It's about some cooze who's a regular fuck machine. I mean all the time, morning, day, night, afternoon, dick, dick, dick, dick, dick, dick, dick, dick, dick, dick, dick.\",\n",
       "    'userName': 'MR.PINK'},\n",
       "   'sentiment': {'compound': -0.9893,\n",
       "    'neg': 0.619,\n",
       "    'neu': 0.342,\n",
       "    'pos': 0.039}},\n",
       "  {'message': {'message': 'How many dicks was that?', 'userName': 'MR.BLUE'},\n",
       "   'sentiment': {'compound': 0.0, 'neg': 0.0, 'neu': 1.0, 'pos': 0.0}},\n",
       "  {'message': {'message': 'A lot.', 'userName': 'MR.WHITE'},\n",
       "   'sentiment': {'compound': 0.0, 'neg': 0.0, 'neu': 1.0, 'pos': 0.0}},\n",
       "  {'message': {'message': \"Then one day she meets a John Holmes motherfucker, and it's like, whoa baby.  This mother fucker's like Charles Bronson in 'The Great Escape.'  He's diggin tunnels.  Now she's gettin this serious dick action, she's feelin  something she ain't felt since forever. Pain. \",\n",
       "    'userName': 'MR.PINK'},\n",
       "   'sentiment': {'compound': -0.5385,\n",
       "    'neg': 0.222,\n",
       "    'neu': 0.618,\n",
       "    'pos': 0.161}},\n",
       "  {'message': {'message': 'Chew?  Toby Chew?  No.', 'userName': 'JOE'},\n",
       "   'sentiment': {'compound': -0.3736, 'neg': 0.46, 'neu': 0.54, 'pos': 0.0}},\n",
       "  {'message': {'message': \"It hurts.  It hurts her.  It shouldn't hurt.  Her pussy should be Bubble-Yum by now.  But when this cat fucks her, it hurts.  It hurts like the first time.  The pain is reminding a fuck machine what is was like to be a virgin. Hence, 'Like a Virgin.'\",\n",
       "    'userName': 'MR.PINK'},\n",
       "   'sentiment': {'compound': -0.9189,\n",
       "    'neg': 0.335,\n",
       "    'neu': 0.511,\n",
       "    'pos': 0.154}}]}"
      ]
     },
     "execution_count": 22,
     "metadata": {},
     "output_type": "execute_result"
    }
   ],
   "source": [
    "sentimients = r.get(\"http://127.0.0.1:5000/chat/2/sentiment\").json()\n",
    "sentimients"
   ]
  },
  {
   "cell_type": "markdown",
   "metadata": {},
   "source": [
    "#### Le recomendamos a un nuevo usuario los usuario más a fin a el en base a los mensajes que escriben"
   ]
  },
  {
   "cell_type": "code",
   "execution_count": 23,
   "metadata": {},
   "outputs": [
    {
     "data": {
      "text/plain": [
       "{'users': ['MR.ORANGE', 'Kobe', 'Messi']}"
      ]
     },
     "execution_count": 23,
     "metadata": {},
     "output_type": "execute_result"
    }
   ],
   "source": [
    "body = {\n",
    "    \"messages\": \"I'm sorry, but I don't want to be an emperor. \\\n",
    "    That's not my business. I don't want to rule or conquer anyone. \\\n",
    "    I should like to help everyone if possible. \\\n",
    "    Jew - Gentile - Black Man, White. We all want to help one another, human beings are like that. \\\n",
    "    We want to live by each other's happiness. Not by each other's misery.\"\n",
    "}\n",
    "headers = {\n",
    "    \"Content-Type\": \"application/json\"\n",
    "}\n",
    "recommend = r.get(\"http://127.0.0.1:5000/user/recommend\", json=body).json()\n",
    "recommend"
   ]
  }
 ],
 "metadata": {
  "kernelspec": {
   "display_name": "Python 3",
   "language": "python",
   "name": "python3"
  },
  "language_info": {
   "codemirror_mode": {
    "name": "ipython",
    "version": 3
   },
   "file_extension": ".py",
   "mimetype": "text/x-python",
   "name": "python",
   "nbconvert_exporter": "python",
   "pygments_lexer": "ipython3",
   "version": "3.7.4"
  }
 },
 "nbformat": 4,
 "nbformat_minor": 2
}
